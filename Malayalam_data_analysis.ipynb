{
  "nbformat": 4,
  "nbformat_minor": 0,
  "metadata": {
    "colab": {
      "name": "Malayalam_data_analysis.ipynb",
      "provenance": []
    },
    "kernelspec": {
      "name": "python3",
      "display_name": "Python 3"
    }
  },
  "cells": [
    {
      "cell_type": "code",
      "metadata": {
        "id": "FfPcp6GMPYzE",
        "colab": {
          "base_uri": "https://localhost:8080/"
        },
        "outputId": "a82d54a2-fc91-4f80-fab6-ae92e4a0ffd4"
      },
      "source": [
        "pip install mlmorph"
      ],
      "execution_count": null,
      "outputs": [
        {
          "output_type": "stream",
          "name": "stdout",
          "text": [
            "Requirement already satisfied: mlmorph in /usr/local/lib/python3.7/dist-packages (1.3.2)\n",
            "Requirement already satisfied: sfst in /usr/local/lib/python3.7/dist-packages (from mlmorph) (1.5.4)\n",
            "Requirement already satisfied: regex in /usr/local/lib/python3.7/dist-packages (from mlmorph) (2019.12.20)\n"
          ]
        }
      ]
    },
    {
      "cell_type": "code",
      "metadata": {
        "id": "1pFlxA_bOdB4",
        "colab": {
          "base_uri": "https://localhost:8080/"
        },
        "outputId": "d14f5110-922d-4f42-c31d-687c930d982f"
      },
      "source": [
        "import nltk\n",
        "nltk.download('punkt')\n",
        "from nltk.tokenize import word_tokenize"
      ],
      "execution_count": null,
      "outputs": [
        {
          "output_type": "stream",
          "name": "stdout",
          "text": [
            "[nltk_data] Downloading package punkt to /root/nltk_data...\n",
            "[nltk_data]   Package punkt is already up-to-date!\n"
          ]
        }
      ]
    },
    {
      "cell_type": "code",
      "metadata": {
        "id": "WTC_0_XCPyH8",
        "colab": {
          "base_uri": "https://localhost:8080/"
        },
        "outputId": "30cb34a8-d677-47d1-8f90-8cb64697e7ac"
      },
      "source": [
        "#creating variables for positive, negative and neutral samples\n",
        "# -*- coding: utf-8 -*-\n",
        "positive=[]\n",
        "negative=[]\n",
        "neutral=[]\n",
        "f1=open(\"pos1.txt\",\"r\")\n",
        "f2=open(\"neg1.txt\",\"r\")\n",
        "f3=open(\"neu1.txt\",\"r\")\n",
        "\n",
        "for line in f1:\n",
        "  positive.append(line)\n",
        "for line in f2:\n",
        "  negative.append(line)\n",
        "for line in f3:\n",
        "  neutral.append(line)\n",
        "f1.close()\n",
        "f2.close()\n",
        "f3.close()\n",
        "\n",
        "#tokenization\n",
        "\n",
        "pos_tok=[]\n",
        "neg_tok=[]\n",
        "neu_tok=[]\n",
        "\n",
        "for item in positive:\n",
        "  pos_tok.append(word_tokenize(item))\n",
        "for item in negative:\n",
        "  neg_tok.append(word_tokenize(item))\n",
        "for item in neutral:\n",
        "  neu_tok.append(word_tokenize(item))\n",
        "\n",
        "print(pos_tok)\n"
      ],
      "execution_count": null,
      "outputs": [
        {
          "output_type": "stream",
          "name": "stdout",
          "text": [
            "[['ഇഷ്ടം'], ['വിശ്വസിക്കുന്നു'], ['സ്നേഹിച്ചിരുന്ന'], ['സപ്പോർട്ട്'], ['പൊളിച്ചു'], ['വേറെ', 'ലെവൽ'], ['നല്ല'], ['മികച്ച'], ['നന്ദി'], ['കിടിലം'], ['രക്ഷയുമില്ല'], ['മികച്ച'], ['ഷൂപ്പർ'], ['രെക്ഷ', 'ഇല്ല'], ['നമിച്ചു'], ['മാസ്സ്'], ['കൊള്ളാം'], ['ആരാധികയാക്കി'], ['സൂപ്പർ'], ['രോമാഞ്ചം'], ['കട്ട', 'ഫാൻ'], ['കൊല', 'മാസ്സ്'], ['കിടുക്കി'], ['തിമിർത്തു'], ['ഗ്രേറ്റ്'], ['കൂൾ'], ['ഹിറ്റ്'], ['കിടിലൻ'], ['കിടിലൻ'], ['കിടിലം'], ['കലക്കി'], ['കിടുവാണെന്ന്'], ['കിടുവാണെന്ന്'], ['കിടു'], ['കുളിരു', 'കോരുന്ന'], ['ഇഷ്ടപെട്ടത്'], ['കിടു'], ['അർഹിച്ചിരുന്നു'], ['മുത്താണ്'], ['കലക്കി'], ['ഇഷ്ടപ്പെട്ട'], ['സൂപ്പർ'], ['പൊളിച്ചു'], ['ഇഷ്ടം'], ['പ്രതിഭ'], ['ഇഷ്ടപ്പെട്ടിരുന്നു'], ['ഇഷ്ടമാണ്'], ['മനോഹരം'], ['നന്നായി'], ['ഹാപ്പി'], ['കിടുലം'], ['സത്യം'], ['അടിപൊളി'], ['നന്ദിയുണ്ട്'], ['തഴയാറില്ല'], ['സല്യൂട്ട്'], ['ഞെട്ടിക്കുന്ന'], ['വേറെ', 'ലെവലാണ്'], ['തിളങ്ങി'], ['പൊളിക്'], ['കാശ്', 'മുതലായി'], ['സുപ്പെർ'], ['ക്ലാസ്സിക്\\u200c'], ['എമ്മാതിരി'], ['പൊളി'], ['നല്ലൊരു'], ['അനായാസമാണ്'], ['ആനന്ദം'], ['അവിശ്വസനീയം'], ['മതിവരില്ല'], ['രോമാഞ്ചിച്ച്'], ['കോമഡി', 'ആയി'], ['സൂപ്പറാണ്'], ['രക്ഷയില്ല'], ['ആഘോഷമാക്കപ്പെട്ട'], ['അത്ഭുതം'], ['മഹാനടൻ'], ['വെൽഡൺ'], ['വെൽഡൺ'], ['മുതലാവും'], ['അഭിനന്ദനങ്ങൾ'], ['ഉയിർ'], ['പോസിറ്റീവ്'], ['സുപ്പർ'], ['പോളി'], ['ഒന്നാംതരം'], ['നന്നായിരുന്നു'], ['കുതിരപവൻ'], ['നല്ലതാണ്'], ['ഉജ്ജ്വല'], ['ഇഷ്ട്ടപ്പെട്ട'], ['മികച്ചതാണ്'], ['ഉഗ്രൻ'], ['കഴിവ്'], ['ഒന്നൊന്നര'], ['ജയിക്കും'], ['വമ്പന്\\u200d'], ['മെസ്സ്'], ['പോത്സാഹനവും'], ['ഗംഭീരം'], ['ഗംഭീരം'], ['നിഷ്കളങ്കനാണ്'], ['സ്നേഹം'], ['നന്മ'], ['നിഷ്കളങ്കത'], ['ശരിയാണ്'], ['മടുക്കില്ല'], ['പാവമാണെന്നു'], ['നല്ലതാ'], ['സൂപ്പർ'], ['പൊളിച്ചു'], ['സന്തോഷം'], ['മാസ്സ്'], ['പൊളിയാണ്'], ['മനോഹര'], ['സ്നേഹമുള്ള'], ['സൂപ്പറായി'], ['സത്യമാണ്'], ['കൂടെ', 'ഉണ്ട്'], ['പൊളിയാണ്'], ['നല്ലത്'], ['കിടിലൻ'], ['ഇല്ല'], ['രക്ഷപെട്ടു'], ['ഇല്ലല്ലോ'], ['തോൽപിക്കാനാവില്ല'], ['അസ്സൽ'], ['ആകർഷിച്ചത്'], ['പൊളിച്ചടക്കി'], ['നല്ല'], ['മനോഹരമാക്കിയിരിക്കുന്നു'], ['നല്ല'], ['ബുദ്ധിശാലി'], ['ഹെവി'], ['അടിപൊളിയാണ്'], ['ത്രില്ല്'], ['സുന്ദരമായ'], ['ബോറടിപ്പിക്കാതെ'], ['പേരുകേട്ട'], ['മികച്ചത്'], ['ധൈര്യം'], ['ഇഷ്ട്ടം'], ['മികച്ചതു'], ['പ്രിയപ്പെട്ട'], ['സ്നേഹിച്ച'], ['മികച്ച'], ['വേസ്റ്റ്'], ['അഭിമാനത്തോടെ'], ['അഭിനന്ദനം'], ['രക്ഷയും', 'ഇല്ല'], ['ഇഷ്ടമുള്ള'], ['പൊളിയേ'], ['വിജയം'], ['നല്ലൊരു'], ['ശരി'], ['നന്നായിട്ടുണ്ട്'], ['ഗ്രേറ്റ്\\u200c'], ['പുളകം'], ['ഇഷ്ട'], ['ഉയർന്നിട്ടുണ്ട്'], ['അഭിമാനം'], ['ബഹുമാനം'], ['സ്നേഹം'], ['ജീവനാണ്'], ['ശെരി'], ['അംഗീകാരം']]\n"
          ]
        }
      ]
    },
    {
      "cell_type": "code",
      "metadata": {
        "id": "EUPzIq9eTHUa",
        "colab": {
          "base_uri": "https://localhost:8080/"
        },
        "outputId": "dcd796f9-e813-4ea8-c882-0a7602ed7d7c"
      },
      "source": [
        "#NORMALIZATION  \n",
        "#stemming\n",
        "from mlmorph import Analyser\n",
        "\n",
        "analyser = Analyser()\n",
        "\n",
        "pos_stem = []\n",
        "neg_stem = []\n",
        "neu_stem = []\n",
        "\n",
        "for list in pos_tok:\n",
        "  re=[]\n",
        "  for item in list:\n",
        "    lst=analyser.analyse(item)\n",
        "    for lis in lst:\n",
        "      re.append(lis[0])\n",
        "  #print(re)\n",
        "  pos_stem.append(re)\n",
        "for list in neg_tok:\n",
        "  re=[]\n",
        "  for item in list:\n",
        "    lst=analyser.analyse(item)\n",
        "    for lis in lst:\n",
        "      re.append(lis[0])\n",
        "  #print(re)\n",
        "  neg_stem.append(re)\n",
        "for list in neu_tok:\n",
        "  re=[]\n",
        "  for item in list:\n",
        "    lst=analyser.analyse(item)\n",
        "    for lis in lst:\n",
        "      re.append(lis[0])\n",
        "  #print(re)\n",
        "  neu_stem.append(re)\n",
        "\n",
        "print(pos_stem)"
      ],
      "execution_count": null,
      "outputs": [
        {
          "output_type": "stream",
          "name": "stdout",
          "text": [
            "[['ഇഷ്ടം<n>', 'ഇ<dem>അഷ്ടം<sanskrit>'], ['വിശ്വസിക്കുക<v><present>', 'വി<n><n-v-compound>ശ്വസിക്കുക<v><present>'], ['സ്നേഹിക്കുക<v><cvb-adv-part-past>ഇരിക്കുക<v><adv-clause-rp-past>', 'സ്നേഹിക്കുക<v><cvb-adv-part-past>ഇരിക്കുക<v><past><adv-clause-rp-past>'], ['സപ്പോർട്ട്<eng>', 'സപ്പോർട്ട്<eng><adj>'], ['പൊളിയുക<v><causative-voice><past>'], ['വേറെ<cnj>', 'വേർ<n>എ<indeclinable>', 'വേറ്<n>എ<indeclinable>', 'ലെവൽ<eng>'], ['നല്ല<adj>', 'നല്ല<quantifier>'], ['മികയ്ക്കുക<v><adv-clause-rp-past>', 'മികയ്ക്കുക<v><past><adv-clause-rp-past>', 'മികയുക<v><causative-voice><adv-clause-rp-past>', 'മികയുക<v><causative-voice><past><adv-clause-rp-past>', 'മി<n><n-v-compound>കയ്ക്കുക<v><adv-clause-rp-past>', 'മി<np><n-v-compound>കയ്ക്കുക<v><adv-clause-rp-past>', 'മി<n><n-v-compound>കയ്ക്കുക<v><past><adv-clause-rp-past>', 'മി<np><n-v-compound>കയ്ക്കുക<v><past><adv-clause-rp-past>'], ['നന്ദി<n>'], ['കിടിലം<n>', 'കിടി<n><adj>ലം<np>'], ['രക്ഷ<n>ഉം<cnj>ഇല്ല<neg>'], ['മികയ്ക്കുക<v><adv-clause-rp-past>', 'മികയ്ക്കുക<v><past><adv-clause-rp-past>', 'മികയുക<v><causative-voice><adv-clause-rp-past>', 'മികയുക<v><causative-voice><past><adv-clause-rp-past>', 'മി<n><n-v-compound>കയ്ക്കുക<v><adv-clause-rp-past>', 'മി<np><n-v-compound>കയ്ക്കുക<v><adv-clause-rp-past>', 'മി<n><n-v-compound>കയ്ക്കുക<v><past><adv-clause-rp-past>', 'മി<np><n-v-compound>കയ്ക്കുക<v><past><adv-clause-rp-past>'], [], ['ഇല്ല<neg>', 'ഇല്ലം<n><adj>', 'ഇ<n>അല്ല<neg>'], ['നമിക്കുക<v><past>'], [], ['കൊള്ളുക<v><promissive-mood>', 'കൊള്ളുക<v><permissive-mood>'], ['ആ<dem>രാധിക<np>ആക്കി<cnj>', 'ആ<dem>രാധിക<np><n-v-compound>യാക്കുക<v><past>', 'ആ<dem>രാധിക<np><n-v-compound>യാക്കുക<v><cvb-adv-part-past>', 'ആ<dem>രാധിക<np><n-v-compound>ആകുക<v><causative-voice><past>', 'ആ<dem>രാധിക<np><n-v-compound>ആകുക<v><causative-voice><cvb-adv-part-past>'], ['സൂപ്പർ<eng>'], ['രോമാഞ്ചം<n>'], ['കട്ട<n>', 'കക്കുക<v><adv-clause-rp-past>', 'കൾക്കുക<v><adv-clause-rp-past>', 'കക്കുക<v><past><adv-clause-rp-past>', 'കൾക്കുക<v><past><adv-clause-rp-past>', 'കങ്ങുക<v><causative-voice><adv-clause-rp-past>', 'കങ്ങുക<v><causative-voice><past><adv-clause-rp-past>', 'ഫാൻ<eng>'], ['കൊല<n>'], ['കിടുക്കി<n>', 'കിടു<n><coordinative>അക്കി<n>'], ['തിമിർക്കുക<v><past>'], ['ഗ്രേറ്റ്<eng>', 'ഗ്രേറ്റ്<eng><adj>'], ['കൂൾ<n>'], ['ഹിറ്റ്<fw>'], [], [], ['കിടിലം<n>', 'കിടി<n><adj>ലം<np>'], ['കലക്കുക<v><past>', 'കലക്കുക<v><cvb-adv-part-past>', 'കലങ്ങുക<v><causative-voice><past>', 'കലങ്ങുക<v><causative-voice><cvb-adv-part-past>'], ['കിടു<n>ആണ്<aff>എന്ന്<cnj>', 'കിടു<n>ആണു്<aff>എന്ന്<cnj>', 'കിടു<n>ആണ്<aff>എന്ന്<postp>', 'കിടു<n>ആണു്<aff>എന്ന്<postp>', 'കിടു<n><adj>ആൺ<n>എന്ന്<cnj>', 'കിടു<n><adj>ആൺ<n>എന്ന്<postp>', 'കിടു<n>ആണ്<aff>എന്ന്<cnj><adj>', 'കിടു<n>ആണു്<aff>എന്ന്<cnj><adj>', 'കിടു<n>ആണ്<aff>എന്ന്<postp><adj>', 'കിടു<n>ആണു്<aff>എന്ന്<postp><adj>', 'കിടു<n><adj>ആൺ<n>എന്ന്<cnj><adj>', 'കിടു<n><adj>ആൺ<n>എന്ന്<postp><adj>'], ['കിടു<n>ആണ്<aff>എന്ന്<cnj>', 'കിടു<n>ആണു്<aff>എന്ന്<cnj>', 'കിടു<n>ആണ്<aff>എന്ന്<postp>', 'കിടു<n>ആണു്<aff>എന്ന്<postp>', 'കിടു<n><adj>ആൺ<n>എന്ന്<cnj>', 'കിടു<n><adj>ആൺ<n>എന്ന്<postp>', 'കിടു<n>ആണ്<aff>എന്ന്<cnj><adj>', 'കിടു<n>ആണു്<aff>എന്ന്<cnj><adj>', 'കിടു<n>ആണ്<aff>എന്ന്<postp><adj>', 'കിടു<n>ആണു്<aff>എന്ന്<postp><adj>', 'കിടു<n><adj>ആൺ<n>എന്ന്<cnj><adj>', 'കിടു<n><adj>ആൺ<n>എന്ന്<postp><adj>'], ['കിടു<n>'], ['കോരുക<v><adv-clause-rp-present>', 'കോര്<n><coordinative>ഉന്നം<n><adj>'], [], ['കിടു<n>'], ['അർഹിക്കുക<v><cvb-adv-part-past>ഇരിക്കുക<v><past>', 'അ<dem><n-v-compound>അർഹിക്കുക<v><cvb-adv-part-past>ഇരിക്കുക<v><past>'], ['മുത്ത്<n>ആണ്<aff>', 'മുത്ത്<n>ആണ്<aff><adj>', 'മുങ്ങുക<v><causative-voice><cvb-adv-part-past>ആണ്<aff>'], ['കലക്കുക<v><past>', 'കലക്കുക<v><cvb-adv-part-past>', 'കലങ്ങുക<v><causative-voice><past>', 'കലങ്ങുക<v><causative-voice><cvb-adv-part-past>'], ['ഇഷ്ടപ്പെടുക<v><adv-clause-rp-past>', 'ഇഷ്ടം<n><adj>പെട്ട<n>', 'ഇഷ്ടപ്പെടുക<v><past><adv-clause-rp-past>', 'ഇഷ്ടം<n><adj>പെട്ട<np>', 'ഇ<dem>അഷ്ടം<sanskrit><adj>പെട്ട<n>', 'ഇ<dem>അഷ്ടം<sanskrit><adj>പെട്ട<np>', 'ഇഷ്ടം<n><adj><n-v-compound>പെടുക<v><adv-clause-rp-past>', 'ഇഷ്ടം<n><adj><n-v-compound>പെടുക<v><past><adv-clause-rp-past>', 'ഇ<dem>അഷ്ടം<sanskrit><adj><n-v-compound>പെടുക<v><adv-clause-rp-past>', 'ഇ<dem>അഷ്ടം<sanskrit><adj><n-v-compound>പെടുക<v><past><adv-clause-rp-past>'], ['സൂപ്പർ<eng>'], ['പൊളിയുക<v><causative-voice><past>'], ['ഇഷ്ടം<n>', 'ഇ<dem>അഷ്ടം<sanskrit>'], ['പ്രതിഭ<np>', 'പ്രതിഭ<sanskrit>'], ['ഇഷ്ടപ്പെടുക<v><cvb-adv-part-past>ഇരിക്കുക<v><past>', 'ഇഷ്ടം<n><adj>പെട്ട്<n><n-v-compound>ഇരിക്കുക<v><past>', 'ഇഷ്ടം<n><adj><n-v-compound>പെടുക<v><cvb-adv-part-past>ഇരിക്കുക<v><past>', 'ഇ<dem>അഷ്ടം<sanskrit><adj>പെട്ട്<n><n-v-compound>ഇരിക്കുക<v><past>', 'ഇ<dem>അഷ്ടം<sanskrit><adj><n-v-compound>പെടുക<v><cvb-adv-part-past>ഇരിക്കുക<v><past>'], ['ഇഷ്ടം<n>ആണ്<aff>', 'ഇഷ്ടം<n>ആണ്<aff><adj>', 'ഇ<dem>അഷ്ടം<sanskrit>ആണ്<aff>', 'ഇ<dem>അഷ്ടം<sanskrit>ആണ്<aff><adj>'], ['മനോഹരം<n>'], ['നന്ന്<n>ആയി<cnj>', 'നന്ന്<n>ആയി<postp>', 'നന്ന്<n><n-v-compound>ആകുക<v><past>', 'നന്ന്<n><n-v-compound>ആവുക<v><past>', 'നന്ന്<n><n-v-compound>ആകുക<v><cvb-adv-part-past>', 'നന്ന്<n><n-v-compound>ആവുക<v><cvb-adv-part-past>', 'നന്ന്<n><n-v-compound>ആവുക<v><causative-voice><past>', 'നന്ന്<n><n-v-compound>ആവുക<v><causative-voice><cvb-adv-part-past>'], ['ഹാപ്പി<eng>'], ['കിടു<n><coordinative>അലം<n>', 'കിടു<n><adj>ലം<np>'], ['സത്യം<n>'], ['അടി<n><coordinative>പൊളി<n>', 'അ<dem>അടി<n><coordinative>പൊളി<n>'], ['നന്ദി<n>ഉണ്ട്<aff>', 'നന്ദി<n>ഉണ്ട്<aff><adj>', 'നന്ദി<n><n-v-compound>ഉണ്ണുക<v><cvb-adv-part-past>'], ['തഴയുക<v><habitual-aspect>ഇല്ല<neg>', 'തഴ<n><n-v-compound>ആറുക<v>ഇല്ല<neg>', 'തഴ<n><adj>ആറു്<ones><cardinal><adj>ഇല്ലം<n><adj>'], [], ['ഞെട്ടുക<v><causative-voice><adv-clause-rp-present>', 'ഞെട്ടി<n><adj>കുന്നം<n><adj>'], ['വേറെ<cnj>', 'വേർ<n>എ<indeclinable>', 'വേറ്<n>എ<indeclinable>', 'ലെവൽ<eng>ആണ്<aff>', 'ലെവൽ<eng>ആണ്<aff><adj>'], ['തിളങ്ങുക<v><past>', 'തിളങ്ങുക<v><cvb-adv-part-past>'], [], ['കാശ്<n>', 'മുതൽ<n>ആയി<cnj>', 'മുതൽ<n>ആയി<postp>', 'മുതൽ<postp>ആയി<cnj>', 'മുതൽ<n><n-v-compound>ആകുക<v><past>', 'മുതൽ<n><n-v-compound>ആവുക<v><past>', 'മുതൽ<n><n-v-compound>ആകുക<v><cvb-adv-part-past>', 'മുതൽ<n><n-v-compound>ആവുക<v><cvb-adv-part-past>', 'മുതൽ<n><n-v-compound>ആവുക<v><causative-voice><past>', 'മുതൽ<n><n-v-compound>ആവുക<v><causative-voice><cvb-adv-part-past>'], [], [], [], ['പൊളി<n>'], ['നല്ലൊരു<quantifier>'], ['അനായാസം<n>ആണ്<aff>', 'അനായാസം<n>ആണ്<aff><adj>', 'അ<dem>അനായാസം<n>ആണ്<aff>', 'അ<dem>അനായാസം<n>ആണ്<aff><adj>'], ['ആനന്ദം<np>', 'ആനന്ദം<sanskrit>', 'ആനന്ദം<np><adj>', 'ആ<dem>നന്ദം<n>'], [], ['മതി<n><n-v-compound>വരുക<v>ഇല്ല<neg>'], [], ['കോമഡി<n>', 'ആയി<cnj>', 'ആയി<postp>', 'ആകുക<v><past>', 'ആവുക<v><past>', 'ആകുക<v><cvb-adv-part-past>', 'ആവുക<v><cvb-adv-part-past>', 'ആവുക<v><causative-voice><past>', 'ആവുക<v><causative-voice><cvb-adv-part-past>'], ['സൂപ്പർ<eng>ആണ്<aff>', 'സൂപ്പർ<eng>ആണ്<aff><adj>'], ['രക്ഷ<n>ഇല്ല<neg>', 'രക്ഷ<n><adj>ഇല്ലം<n><adj>', 'രക്ഷ<n><coordinative>ഇല്ലം<n><adj>'], ['ആഘോഷം<n><adj>മാക്കം<n><adj>പെട്ട<n>', 'ആഘോഷം<n><adj>മാക്കം<n><adj>പെട്ട<np>', 'ആഘോഷം<n><coordinative>ആക്ക<n><n-v-compound>പെടുക<v><adv-clause-rp-past>', 'ആ<dem>ഘോഷം<n><adj>മാക്കം<n><adj>പെട്ട<n>', 'ആ<dem>അഘോഷം<n><adj>മാക്കം<n><adj>പെട്ട<n>', 'ആ<dem>ഘോഷം<n><adj>മാക്കം<n><adj>പെട്ട<np>', 'ആ<dem>അഘോഷം<n><adj>മാക്കം<n><adj>പെട്ട<np>', 'ആഘോഷം<n><coordinative>ആക്ക<n><n-v-compound>പെടുക<v><past><adv-clause-rp-past>', 'ആഘോഷം<n><coordinative>ആക്കം<n><adj><n-v-compound>പെടുക<v><adv-clause-rp-past>', 'ആഘോഷം<n><adj>മാക്കം<n><adj><n-v-compound>പെടുക<v><adv-clause-rp-past>', 'ആഘോഷം<n><coordinative>ആക്കം<n><adj><n-v-compound>പെടുക<v><past><adv-clause-rp-past>', 'ആഘോഷം<n><adj>മാക്കം<n><adj><n-v-compound>പെടുക<v><past><adv-clause-rp-past>', 'ആ<dem>ഘോഷം<n><coordinative>ആക്ക<n><n-v-compound>പെടുക<v><adv-clause-rp-past>', 'ആ<dem>അഘോഷം<n><coordinative>ആക്ക<n><n-v-compound>പെടുക<v><adv-clause-rp-past>', 'ആഘോഷം<n><n-v-compound>ആകുക<v><causative-voice><cvb-adv-part-absolute>പെടുക<v><adv-clause-rp-past>', 'ആ<dem>ഘോഷം<n><coordinative>ആക്ക<n><n-v-compound>പെടുക<v><past><adv-clause-rp-past>', 'ആ<dem>അഘോഷം<n><coordinative>ആക്ക<n><n-v-compound>പെടുക<v><past><adv-clause-rp-past>', 'ആ<dem>ഘോഷം<n><coordinative>ആക്കം<n><adj><n-v-compound>പെടുക<v><adv-clause-rp-past>', 'ആ<dem>അഘോഷം<n><coordinative>ആക്കം<n><adj><n-v-compound>പെടുക<v><adv-clause-rp-past>', 'ആ<dem>ഘോഷം<n><adj>മാക്കം<n><adj><n-v-compound>പെടുക<v><adv-clause-rp-past>', 'ആഘോഷം<n><n-v-compound>ആകുക<v><causative-voice><cvb-adv-part-absolute>പെടുക<v><past><adv-clause-rp-past>', 'ആ<dem>അഘോഷം<n><adj>മാക്കം<n><adj><n-v-compound>പെടുക<v><adv-clause-rp-past>', 'ആ<dem>ഘോഷം<n><coordinative>ആക്കം<n><adj><n-v-compound>പെടുക<v><past><adv-clause-rp-past>', 'ആ<dem>അഘോഷം<n><coordinative>ആക്കം<n><adj><n-v-compound>പെടുക<v><past><adv-clause-rp-past>', 'ആ<dem>ഘോഷം<n><adj>മാക്കം<n><adj><n-v-compound>പെടുക<v><past><adv-clause-rp-past>', 'ആ<dem>അഘോഷം<n><adj>മാക്കം<n><adj><n-v-compound>പെടുക<v><past><adv-clause-rp-past>', 'ആ<dem>ഘോഷം<n><n-v-compound>ആകുക<v><causative-voice><cvb-adv-part-absolute>പെടുക<v><adv-clause-rp-past>', 'ആ<dem>അഘോഷം<n><n-v-compound>ആകുക<v><causative-voice><cvb-adv-part-absolute>പെടുക<v><adv-clause-rp-past>', 'ആ<dem>ഘോഷം<n><n-v-compound>ആകുക<v><causative-voice><cvb-adv-part-absolute>പെടുക<v><past><adv-clause-rp-past>', 'ആ<dem>അഘോഷം<n><n-v-compound>ആകുക<v><causative-voice><cvb-adv-part-absolute>പെടുക<v><past><adv-clause-rp-past>'], ['അത്ഭുതം<sanskrit>', 'അ<dem>അത്ഭുതം<sanskrit>'], ['മഹാനടൻ<n>'], [], [], ['മുതലാവുക<v><future>', 'മുതലാവുക<v><causative-voice><future>', 'മുതൽ<n><n-v-compound>ആവുക<v><future>', 'മുത<n><n-v-compound>ലാവുക<v><future>', 'മുതൽ<n><n-v-compound>ആവുക<v><causative-voice><future>', 'മുത<n><n-v-compound>ലാവുക<v><causative-voice><future>'], ['അഭിനന്ദനം<n><pl>', 'അ<dem>അഭിനന്ദനം<n><pl>'], ['ഉയിർ<n>'], ['പോസിറ്റീവ്<eng>', 'പോസിറ്റീവ്<eng><adj>'], [], ['പോളി<np>'], [], ['നന്ന്<n>ആയിരുന്നു<cnj>'], ['കുതിര<n><coordinative>പവൻ<n>', 'കുതിർ<n><adj>അപവൻ<n>', 'കുതിർ<n><coordinative>അപവൻ<n>'], ['നല്ലത്<n>ആണ്<aff>', 'നല്ലത്<n>ആണ്<aff><adj>'], ['ഉജ്ജ്വല<n>', 'ഉജ്ജ്വലം<n><adj>'], [], ['മികയ്ക്കുക<v><adv-clause-rp-past><n><deriv>ആണ്<aff>', 'മികയ്ക്കുക<v><adv-clause-rp-past><n><deriv>ആണ്<aff><adj>', 'മികയുക<v><causative-voice><adv-clause-rp-past><n><deriv>ആണ്<aff>', 'മികയ്ക്കുക<v><past><adv-clause-rp-past><n><deriv>ആണ്<aff>', 'മികയുക<v><causative-voice><adv-clause-rp-past><n><deriv>ആണ്<aff><adj>', 'മികയ്ക്കുക<v><past><adv-clause-rp-past><n><deriv>ആണ്<aff><adj>', 'മികയുക<v><causative-voice><past><adv-clause-rp-past><n><deriv>ആണ്<aff>', 'മികയുക<v><causative-voice><past><adv-clause-rp-past><n><deriv>ആണ്<aff><adj>'], ['ഉഗ്രൻ<n>'], ['കഴിവ്<n>', 'കഴിയുക<v><n><deriv>', 'കഴിയുക<v><n><deriv><adj>'], ['ഒന്ന്<ones><cardinal><adj>ഒന്നര<n>', 'ഒന്നു്<ones><cardinal><adj>ഒന്നര<n>', 'ഒന്ന്<ones><cardinal><adj>ഒന്ന്<ones><cardinal><adj>അര<n>', 'ഒന്നു്<ones><cardinal><adj>ഒന്ന്<ones><cardinal><adj>അര<n>', 'ഒന്ന്<ones><cardinal><adj>ഒന്നു്<ones><cardinal><adj>അര<n>', 'ഒന്നു്<ones><cardinal><adj>ഒന്നു്<ones><cardinal><adj>അര<n>', 'ഒന്നു്<ones><cardinal><adj>ഒന്നു്<ones><cardinal><adj>അരം<n><adj>'], ['ജയിക്കുക<v><future>'], ['വമ്പൻ<n>'], [], [], ['ഗംഭീരം<n>'], ['ഗംഭീരം<n>'], ['നിഷ്കളങ്കൻ<n>ആണ്<aff>', 'നിഷ്കളങ്കൻ<n>ആണ്<aff><adj>', 'നിഷ്കളങ്കൻ<n><dative>ആണ്<aff>', 'നിഷ്കളങ്കൻ<n><dative>ആണ്<aff><adj>'], ['സ്നേഹം<n>'], [], ['നിഷ്കളങ്കത<n>'], ['ശരി<n>ആണ്<aff>', 'ശരി<n>ആണ്<aff><adj>'], ['മടുക്കുക<v>ഇല്ല<neg>', 'മടു<n><adj>കില്ല<n>', 'മടു<n><dative>ഇല്ല<neg>', 'മടു<n><coordinative>അക്ക്<n>ഇല്ല<neg>'], ['പാവം<n>ആണ്<aff>എന്നു<cnj>', 'പാവം<n>ആണു്<aff>എന്നു<cnj>', 'പാവം<n>ആണ്<aff>എന്നു<postp>', 'പാവം<n>ആണു്<aff>എന്നു<postp>', 'പാവം<n><coordinative>ആൺ<n>എന്നു<cnj>', 'പാവം<n><coordinative>ആൺ<n>എന്നു<postp>'], [], ['സൂപ്പർ<eng>'], ['പൊളിയുക<v><causative-voice><past>'], ['സന്തോഷം<n>'], [], ['പൊളി<n>ആണ്<aff>', 'പൊളി<n>ആണ്<aff><adj>'], ['മനോഹര<n>', 'മനോഹരം<n><adj>'], ['സ്നേഹം<n>ഉള്ള<cnj>', 'സ്നേഹം<n>ഉള്ള<postp>', 'സ്നേഹം<n><coordinative>ഉള്ളം<n><adj>'], ['സൂപ്പർ<eng>ആയി<cnj>', 'സൂപ്പർ<eng>ആയി<postp>', 'സൂപ്പർ<eng><n-v-compound>ആകുക<v><past>', 'സൂപ്പർ<eng><n-v-compound>ആവുക<v><past>', 'സൂപ്പർ<eng><n-v-compound>ആകുക<v><cvb-adv-part-past>', 'സൂപ്പർ<eng><n-v-compound>ആവുക<v><cvb-adv-part-past>', 'സൂപ്പർ<eng><n-v-compound>ആവുക<v><causative-voice><past>', 'സൂപ്പർ<eng><n-v-compound>ആവുക<v><causative-voice><cvb-adv-part-past>'], ['സത്യം<n>ആണ്<aff>', 'സത്യം<n>ആണ്<aff><adj>'], ['കൂടെ<cnj>', 'കൂടെ<postp>', 'കൂട്<n>എ<indeclinable>', 'ഉണ്ട്<aff>', 'ഉണ്ണുക<v><cvb-adv-part-past>'], ['പൊളി<n>ആണ്<aff>', 'പൊളി<n>ആണ്<aff><adj>'], ['നല്ലത്<n>'], [], ['ഇല്ല<neg>', 'ഇല്ലം<n><adj>', 'ഇ<n>അല്ല<neg>'], ['രക്ഷ<n><coordinative>പെട്ട്<n><adj>'], ['ഇ<dem>അല്ല്<n><adj>അല്ല്<n>ഓ<cnj>', 'ഇ<dem>അല്ല്<n><coordinative>അല്ല്<n>ഓ<cnj>', 'ഇ<dem>അല്ല്<n><adj>അല്ല്<n><adj>ഓ<np>', 'ഇ<dem>അല്ല്<n><adj>അല്ല്<n>ഓ<interrogative><indeclinable>', 'ഇ<dem>അല്ല്<n><coordinative>അല്ല്<n>ഓ<interrogative><indeclinable>'], [], ['അസ്സൽ<fw>'], ['ആകർഷിക്കുക<v><adv-clause-rp-past><n><deriv>', 'ആകർഷിക്കുക<v><adv-clause-rp-past><n><deriv><adj>', 'ആകർഷിക്കുക<v><past><adv-clause-rp-past><n><deriv>', 'ആകർഷിക്കുക<v><past><adv-clause-rp-past><n><deriv><adj>'], ['പൊളിയുക<v><causative-voice><cvb-adv-part-past>അടക്കുക<v><past>', 'പൊളിയുക<v><causative-voice><cvb-adv-part-past>അടക്കുക<v><cvb-adv-part-past>', 'പൊളിയുക<v><causative-voice><cvb-adv-part-past>അടങ്ങുക<v><causative-voice><past>', 'പൊളിയുക<v><causative-voice><cvb-adv-part-past>അടങ്ങുക<v><causative-voice><cvb-adv-part-past>'], ['നല്ല<adj>', 'നല്ല<quantifier>'], ['മനോഹരം<n><n-v-compound>ആകുക<v><causative-voice><cont-perfect-aspect>', 'മനോഹരം<n>ആക്കി<cnj><n-v-compound>ഇരിക്കുക<v><present>', 'മനോഹരം<n><n-v-compound>ആകുക<v><causative-voice><cvb-adv-part-past>ഇരിക്കുക<v><present>'], ['നല്ല<adj>', 'നല്ല<quantifier>'], ['ബുദ്ധിശാലി<n>', 'ബുദ്ധി<n><coordinative>ശാലി<n>'], ['ഹെവി<fw>'], ['അടി<n><coordinative>പൊളി<n>ആണ്<aff>', 'അടി<n><coordinative>പൊളി<n>ആണ്<aff><adj>', 'അ<dem>അടി<n><coordinative>പൊളി<n>ആണ്<aff>', 'അ<dem>അടി<n><coordinative>പൊളി<n>ആണ്<aff><adj>'], [], ['സുന്ദരം<n>ആയ<cnj>', 'സുന്ദരം<n>ആയ<postp>', 'സുന്ദരം<np>ആയ<cnj>', 'സുന്ദരം<np>ആയ<postp>', 'സുന്ദരം<n><coordinative>ആയ<n>', 'സുന്ദരം<n><adj>മായ<n>', 'സുന്ദരം<n><adj>മായ<np>', 'സുന്ദരം<n><coordinative>ആയം<n><adj>', 'സുന്ദരം<n><adj>മായം<n><adj>', 'സുന്ദരം<n><n-v-compound>ആയുക<v><cvb-adv-part-absolute>', 'സുന്ദരം<np><n-v-compound>ആയുക<v><cvb-adv-part-absolute>', 'സുന്ദര<np><n-v-compound>മായുക<v><cvb-adv-part-absolute>', 'സുന്ദരം<n><adj><n-v-compound>മായുക<v><cvb-adv-part-absolute>', 'സുന്ദരം<np><adj><n-v-compound>ആയുക<v><cvb-adv-part-absolute>'], ['ബോറടിക്കുക<v><causative-voice><compulsive-mood-neg>', 'ബോർ<n><n-v-compound>അടിക്കുക<v><causative-voice><compulsive-mood-neg>'], ['പേരു<n><coordinative>കേട്ട<n>', 'പേര്<n><adj>കേട്ട<n>', 'പേര്<n><coordinative>കേട്ട<n>', 'പേരു<n><n-v-compound>കേൾക്കുക<v><adv-clause-rp-past>', 'പേര്<n><n-v-compound>കേൾക്കുക<v><adv-clause-rp-past>', 'പേര്<n><adj><n-v-compound>കേൾക്കുക<v><adv-clause-rp-past>', 'പേരു<n><n-v-compound>കേൾക്കുക<v><past><adv-clause-rp-past>', 'പേര്<n><n-v-compound>കേൾക്കുക<v><past><adv-clause-rp-past>', 'പേര്<n><adj><n-v-compound>കേൾക്കുക<v><past><adv-clause-rp-past>'], ['മികയ്ക്കുക<v><adv-clause-rp-past><n><deriv>', 'മികയുക<v><causative-voice><adv-clause-rp-past><n><deriv>', 'മികയ്ക്കുക<v><adv-clause-rp-past><n><deriv><adj>', 'മികയ്ക്കുക<v><past><adv-clause-rp-past><n><deriv>', 'മികയുക<v><causative-voice><adv-clause-rp-past><n><deriv><adj>', 'മികയുക<v><causative-voice><past><adv-clause-rp-past><n><deriv>', 'മികയ്ക്കുക<v><past><adv-clause-rp-past><n><deriv><adj>', 'മികയുക<v><causative-voice><past><adv-clause-rp-past><n><deriv><adj>'], ['ധൈര്യം<n>'], [], [], ['പ്രിയ<np><n-v-compound>പെടുക<v><adv-clause-rp-past>', 'പ്രിയ<np><n-v-compound>പെടുക<v><past><adv-clause-rp-past>'], ['സ്നേഹിക്കുക<v><adv-clause-rp-past>', 'സ്നേഹിക്കുക<v><past><adv-clause-rp-past>'], ['മികയ്ക്കുക<v><adv-clause-rp-past>', 'മികയ്ക്കുക<v><past><adv-clause-rp-past>', 'മികയുക<v><causative-voice><adv-clause-rp-past>', 'മികയുക<v><causative-voice><past><adv-clause-rp-past>', 'മി<n><n-v-compound>കയ്ക്കുക<v><adv-clause-rp-past>', 'മി<np><n-v-compound>കയ്ക്കുക<v><adv-clause-rp-past>', 'മി<n><n-v-compound>കയ്ക്കുക<v><past><adv-clause-rp-past>', 'മി<np><n-v-compound>കയ്ക്കുക<v><past><adv-clause-rp-past>'], ['വേസ്റ്റ്<fw>'], ['അഭിമാനം<n><adj>തോട്<n>എ<indeclinable>', 'അ<dem>അഭിമാനം<n><adj>തോട്<n>എ<indeclinable>'], ['അഭിനന്ദനം<n>', 'അ<dem>അഭിനന്ദനം<n>'], ['രക്ഷ<n>ഉം<cnj>', 'ഇല്ല<neg>', 'ഇല്ലം<n><adj>', 'ഇ<n>അല്ല<neg>'], ['ഇഷ്ടം<n>ഉള്ള<cnj>', 'ഇഷ്ടം<n>ഉള്ള<postp>', 'ഇഷ്ടം<n><coordinative>ഉള്ളം<n><adj>', 'ഇ<dem>അഷ്ടം<sanskrit>ഉള്ള<cnj>', 'ഇ<dem>അഷ്ടം<sanskrit>ഉള്ള<postp>'], ['പൊളി<n><vocative>', 'പൊളിയുക<v><cvb-adv-part-simul>', 'പൊളി<n>ഏ<indeclinable>', 'പൊളി<n><adj>ഏ<np>'], ['വിജയം<n>', 'വിജയം<np>', 'വിജയം<np><adj>'], ['നല്ലൊരു<quantifier>'], ['ശരി<n>'], [], [], ['പുളകം<n>', 'പുൾ<n><adj>അകം<n>', 'പുൾ<n><coordinative>അകം<n>'], ['ഇഷ്ടം<n><adj>', 'ഇ<dem>അഷ്ടം<sanskrit><adj>'], ['ഉയരുക<v><cvb-adv-part-past>ഇടുക<v><cvb-adv-part-past>ഉണ്ട്<aff>', 'ഉയരുക<v><cvb-adv-part-past>ഇടുക<v><cvb-adv-part-past>ഉണ്ണുക<v><cvb-adv-part-past>'], ['അഭിമാനം<n>', 'അ<dem>അഭിമാനം<n>'], ['ബഹുമാനം<n>', 'ബഹു<adj>മാനം<n>'], ['സ്നേഹം<n>'], ['ജീവൻ<n>ആണ്<aff>', 'ജീവൻ<np>ആണ്<aff>', 'ജീവൻ<n>ആണ്<aff><adj>', 'ജീവൻ<n><dative>ആണ്<aff>', 'ജീവൻ<np>ആണ്<aff><adj>', 'ജീവൻ<np><dative>ആണ്<aff>', 'ജീവൻ<n><dative>ആണ്<aff><adj>', 'ജീവൻ<np><dative>ആണ്<aff><adj>'], [], ['അംഗീകാരം<n>', 'അ<dem>അംഗീകാരം<n>']]\n"
          ]
        }
      ]
    },
    {
      "cell_type": "code",
      "metadata": {
        "id": "zuyJtTz2XoGT",
        "colab": {
          "base_uri": "https://localhost:8080/"
        },
        "outputId": "8fe96153-f473-4fc0-aa0d-d4c4006b2cd9"
      },
      "source": [
        "#removing noise. In this case I am removing the PoS tags attached with each text because i actually dont know the purpose\n",
        "import re,string\n",
        "\n",
        "cleaned_pos=[]\n",
        "cleaned_neg=[]\n",
        "cleaned_neu=[]\n",
        "\n",
        "for lst in pos_stem:\n",
        "  a=[]\n",
        "  for item in lst:\n",
        "    a.append(item.partition(\"<\")[0])\n",
        "  cleaned_pos.append(a)\n",
        "for lst in neg_stem:\n",
        "  a=[]\n",
        "  for item in lst:\n",
        "    a.append(item.partition(\"<\")[0])\n",
        "  cleaned_neg.append(a)\n",
        "for lst in neu_stem:\n",
        "  a=[]\n",
        "  for item in lst:\n",
        "    a.append(item.partition(\"<\")[0])\n",
        "  cleaned_neu.append(a)\n",
        "\n",
        "print(cleaned_neu)"
      ],
      "execution_count": null,
      "outputs": [
        {
          "output_type": "stream",
          "name": "stdout",
          "text": [
            "[['ശരി', 'ശരി', 'ശരി', 'ശരി'], ['നന്ദി'], ['ധാരാളം'], ['കാണുക', 'കാണുക'], ['കാണുക', 'കാണുക'], ['തട്ടി'], ['ബോർ'], ['അവാർഡ്', 'അ', 'അ'], ['ഇഷ്ടപ്പെടുക', 'ഇഷ്ടപ്പെടുക', 'ഇഷ്ടം', 'ഇ'], [], [], ['കാണുക', 'കാണുക'], ['പ്രതീക്ഷിക്കുക', 'പ്രതി'], ['വിമർശനം'], [], [], ['കൊള്ളുക', 'കൊള്ളുക'], ['ഭംഗി'], ['രോമാഞ്ചം'], [], ['സത്യം'], ['മോശ', 'മോശം', 'മോശം'], ['മോശ', 'മോശം', 'മോശം'], []]\n"
          ]
        }
      ]
    },
    {
      "cell_type": "code",
      "metadata": {
        "id": "_qxzgUvgmd_g",
        "colab": {
          "base_uri": "https://localhost:8080/"
        },
        "outputId": "233112c5-8a2b-4203-fa00-3fb007aaa8c6"
      },
      "source": [
        "#removing stopwords\n",
        "filtered_pos=[]\n",
        "filtered_neg=[]\n",
        "filtered_neu=[]\n",
        "mal_stop_words=[\"ഏത്\",\"എന്തിന്റെ\",\"ഇത്ര\",\"ആ\",\"അ\",\"ഏറെ\",\"ഇതേ\",\"എന്ന\",\"വേറെ\",\"മതി\",\"\\,\",\"എല്ലാ\",\"നിങ്ങളെ\",\"വളരെ\",\"എവിടെ\",\"എപ്പോൾ\",\"ഇന്ന്\",\"ഉള്ള\",\"ഇന്ന്\",\"മറ്റു\",\"ഈ\",\"ഇത്\",\"പോലെ\",\"തന്റെ\",\"വരെ\",\"മാത്രം\",\"എന്നാൽ\",\"മുമ്പ്\",\"തന്റെ\",\"ഇനി\",\"എങ്കിൽ\",\"അല്ലെങ്കിൽ\",\"കുറിച്ചു\",\"പിന്നെ\",\"എന്നത്\",\"അന്ന്\",\"എന്ത്\"]\n",
        "for lst in cleaned_pos:\n",
        "  a=[]\n",
        "  b=(set(lst)-set(mal_stop_words))\n",
        "  #print(b)\n",
        "  for item in b:\n",
        "    #print(item)\n",
        "    a.append(item)\n",
        " # print(a)\n",
        "  filtered_pos.append(a)\n",
        "for lst in cleaned_neg:\n",
        "  a=[]\n",
        "  b=(set(lst)-set(mal_stop_words))\n",
        "  #print(b)\n",
        "  for item in b:\n",
        "    #print(item)\n",
        "    a.append(item)\n",
        " # print(a)\n",
        "  filtered_neg.append(a)\n",
        "for lst in cleaned_neu:\n",
        "  a=[]\n",
        "  b=(set(lst)-set(mal_stop_words))\n",
        "  #print(b)\n",
        "  for item in b:\n",
        "    #print(item)\n",
        "    a.append(item)\n",
        " # print(a)\n",
        "  filtered_neu.append(a)\n",
        "print(filtered_pos)"
      ],
      "execution_count": null,
      "outputs": [
        {
          "output_type": "stream",
          "name": "stdout",
          "text": [
            "[['ഇ', 'ഇഷ്ടം'], ['വി', 'വിശ്വസിക്കുക'], ['സ്നേഹിക്കുക'], ['സപ്പോർട്ട്'], ['പൊളിയുക'], ['വേർ', 'വേറ്', 'ലെവൽ'], ['നല്ല'], ['മികയ്ക്കുക', 'മികയുക', 'മി'], ['നന്ദി'], ['കിടി', 'കിടിലം'], ['രക്ഷ'], ['മികയ്ക്കുക', 'മികയുക', 'മി'], [], ['ഇ', 'ഇല്ല', 'ഇല്ലം'], ['നമിക്കുക'], [], ['കൊള്ളുക'], [], ['സൂപ്പർ'], ['രോമാഞ്ചം'], ['കങ്ങുക', 'ഫാൻ', 'കക്കുക', 'കൾക്കുക', 'കട്ട'], ['കൊല'], ['കിടുക്കി', 'കിടു'], ['തിമിർക്കുക'], ['ഗ്രേറ്റ്'], ['കൂൾ'], ['ഹിറ്റ്'], [], [], ['കിടി', 'കിടിലം'], ['കലക്കുക', 'കലങ്ങുക'], ['കിടു'], ['കിടു'], ['കിടു'], ['കോരുക', 'കോര്'], [], ['കിടു'], ['അർഹിക്കുക'], ['മുങ്ങുക', 'മുത്ത്'], ['കലക്കുക', 'കലങ്ങുക'], ['ഇഷ്ടപ്പെടുക', 'ഇ', 'ഇഷ്ടം'], ['സൂപ്പർ'], ['പൊളിയുക'], ['ഇ', 'ഇഷ്ടം'], ['പ്രതിഭ'], ['ഇഷ്ടപ്പെടുക', 'ഇ', 'ഇഷ്ടം'], ['ഇ', 'ഇഷ്ടം'], ['മനോഹരം'], ['നന്ന്'], ['ഹാപ്പി'], ['കിടു'], ['സത്യം'], ['അടി'], ['നന്ദി'], ['തഴ', 'തഴയുക'], [], ['ഞെട്ടുക', 'ഞെട്ടി'], ['വേർ', 'വേറ്', 'ലെവൽ'], ['തിളങ്ങുക'], [], ['കാശ്', 'മുതൽ'], [], [], [], ['പൊളി'], ['നല്ലൊരു'], ['അനായാസം'], ['ആനന്ദം'], [], [], [], ['കോമഡി', 'ആകുക', 'ആവുക', 'ആയി'], ['സൂപ്പർ'], ['രക്ഷ'], ['ആഘോഷം'], ['അത്ഭുതം'], ['മഹാനടൻ'], [], [], ['മുതൽ', 'മുത', 'മുതലാവുക'], ['അഭിനന്ദനം'], ['ഉയിർ'], ['പോസിറ്റീവ്'], [], ['പോളി'], [], ['നന്ന്'], ['കുതിര', 'കുതിർ'], ['നല്ലത്'], ['ഉജ്ജ്വലം', 'ഉജ്ജ്വല'], [], ['മികയ്ക്കുക', 'മികയുക'], ['ഉഗ്രൻ'], ['കഴിവ്', 'കഴിയുക'], ['ഒന്ന്', 'ഒന്നു്'], ['ജയിക്കുക'], ['വമ്പൻ'], [], [], ['ഗംഭീരം'], ['ഗംഭീരം'], ['നിഷ്കളങ്കൻ'], ['സ്നേഹം'], [], ['നിഷ്കളങ്കത'], ['ശരി'], ['മടു', 'മടുക്കുക'], ['പാവം'], [], ['സൂപ്പർ'], ['പൊളിയുക'], ['സന്തോഷം'], [], ['പൊളി'], ['മനോഹര', 'മനോഹരം'], ['സ്നേഹം'], ['സൂപ്പർ'], ['സത്യം'], ['ഉണ്ട്', 'കൂടെ', 'ഉണ്ണുക', 'കൂട്'], ['പൊളി'], ['നല്ലത്'], [], ['ഇ', 'ഇല്ല', 'ഇല്ലം'], ['രക്ഷ'], ['ഇ'], [], ['അസ്സൽ'], ['ആകർഷിക്കുക'], ['പൊളിയുക'], ['നല്ല'], ['മനോഹരം'], ['നല്ല'], ['ബുദ്ധിശാലി', 'ബുദ്ധി'], ['ഹെവി'], ['അടി'], [], ['സുന്ദരം', 'സുന്ദര'], ['ബോറടിക്കുക', 'ബോർ'], ['പേരു', 'പേര്'], ['മികയ്ക്കുക', 'മികയുക'], ['ധൈര്യം'], [], [], ['പ്രിയ'], ['സ്നേഹിക്കുക'], ['മികയ്ക്കുക', 'മികയുക', 'മി'], ['വേസ്റ്റ്'], ['അഭിമാനം'], ['അഭിനന്ദനം'], ['ഇ', 'ഇല്ല', 'ഇല്ലം', 'രക്ഷ'], ['ഇ', 'ഇഷ്ടം'], ['പൊളി', 'പൊളിയുക'], ['വിജയം'], ['നല്ലൊരു'], ['ശരി'], [], [], ['പുൾ', 'പുളകം'], ['ഇ', 'ഇഷ്ടം'], ['ഉയരുക'], ['അഭിമാനം'], ['ബഹു', 'ബഹുമാനം'], ['സ്നേഹം'], ['ജീവൻ'], [], ['അംഗീകാരം']]\n"
          ]
        }
      ]
    },
    {
      "cell_type": "code",
      "metadata": {
        "id": "GRBmmIpOe9Th"
      },
      "source": [
        "def get_all_words(cleaned_tokens_list):\n",
        "    for tokens in cleaned_tokens_list:\n",
        "        for token in tokens:\n",
        "            yield token\n",
        "\n",
        "all_pos_words = get_all_words(filtered_pos)\n",
        "all_neg_words= get_all_words(filtered_neg)\n",
        "all_neu_words = get_all_words(filtered_neu)"
      ],
      "execution_count": null,
      "outputs": []
    },
    {
      "cell_type": "code",
      "metadata": {
        "id": "GdhaCHivpVZZ",
        "colab": {
          "base_uri": "https://localhost:8080/"
        },
        "outputId": "08d0c8d7-cd3d-4587-911f-1330140c83cc"
      },
      "source": [
        "from nltk import FreqDist\n",
        "\n",
        "freq_dist_pos=FreqDist(all_pos_words)\n",
        "print(freq_dist_pos.most_common(20))"
      ],
      "execution_count": null,
      "outputs": [
        {
          "output_type": "stream",
          "name": "stdout",
          "text": [
            "[('ഇ', 11), ('ഇഷ്ടം', 7), ('കിടു', 6), ('പൊളിയുക', 5), ('മികയ്ക്കുക', 5), ('മികയുക', 5), ('സൂപ്പർ', 5), ('രക്ഷ', 4), ('പൊളി', 4), ('നല്ല', 3), ('മി', 3), ('ഇല്ല', 3), ('ഇല്ലം', 3), ('മനോഹരം', 3), ('സ്നേഹം', 3), ('സ്നേഹിക്കുക', 2), ('വേർ', 2), ('വേറ്', 2), ('ലെവൽ', 2), ('നന്ദി', 2)]\n"
          ]
        }
      ]
    },
    {
      "cell_type": "code",
      "metadata": {
        "id": "ymw3AqnGYhAe",
        "colab": {
          "base_uri": "https://localhost:8080/"
        },
        "outputId": "e78edcf8-55f6-4818-fc84-361a9da1b9b8"
      },
      "source": [
        "#Converting tokens into dictionary\n",
        "pos_dict={}\n",
        "neg_dict={}\n",
        "neu_dict={}\n",
        "for token in filtered_pos:\n",
        "  for item in token:\n",
        "    pos_dict.update({item:True})\n",
        "for token in filtered_neg:\n",
        "  for item in token:\n",
        "    neg_dict.update({item:True})\n",
        "for token in filtered_neu:\n",
        "  for item in token:\n",
        "    neu_dict.update({item:True})\n",
        "\n",
        "print(pos_dict)"
      ],
      "execution_count": null,
      "outputs": [
        {
          "output_type": "stream",
          "name": "stdout",
          "text": [
            "{'ഇ': True, 'ഇഷ്ടം': True, 'വി': True, 'വിശ്വസിക്കുക': True, 'സ്നേഹിക്കുക': True, 'സപ്പോർട്ട്': True, 'പൊളിയുക': True, 'വേർ': True, 'വേറ്': True, 'ലെവൽ': True, 'നല്ല': True, 'മികയ്ക്കുക': True, 'മികയുക': True, 'മി': True, 'നന്ദി': True, 'കിടി': True, 'കിടിലം': True, 'രക്ഷ': True, 'ഇല്ല': True, 'ഇല്ലം': True, 'നമിക്കുക': True, 'കൊള്ളുക': True, 'സൂപ്പർ': True, 'രോമാഞ്ചം': True, 'കങ്ങുക': True, 'ഫാൻ': True, 'കക്കുക': True, 'കൾക്കുക': True, 'കട്ട': True, 'കൊല': True, 'കിടുക്കി': True, 'കിടു': True, 'തിമിർക്കുക': True, 'ഗ്രേറ്റ്': True, 'കൂൾ': True, 'ഹിറ്റ്': True, 'കലക്കുക': True, 'കലങ്ങുക': True, 'കോരുക': True, 'കോര്': True, 'അർഹിക്കുക': True, 'മുങ്ങുക': True, 'മുത്ത്': True, 'ഇഷ്ടപ്പെടുക': True, 'പ്രതിഭ': True, 'മനോഹരം': True, 'നന്ന്': True, 'ഹാപ്പി': True, 'സത്യം': True, 'അടി': True, 'തഴ': True, 'തഴയുക': True, 'ഞെട്ടുക': True, 'ഞെട്ടി': True, 'തിളങ്ങുക': True, 'കാശ്': True, 'മുതൽ': True, 'പൊളി': True, 'നല്ലൊരു': True, 'അനായാസം': True, 'ആനന്ദം': True, 'കോമഡി': True, 'ആകുക': True, 'ആവുക': True, 'ആയി': True, 'ആഘോഷം': True, 'അത്ഭുതം': True, 'മഹാനടൻ': True, 'മുത': True, 'മുതലാവുക': True, 'അഭിനന്ദനം': True, 'ഉയിർ': True, 'പോസിറ്റീവ്': True, 'പോളി': True, 'കുതിര': True, 'കുതിർ': True, 'നല്ലത്': True, 'ഉജ്ജ്വലം': True, 'ഉജ്ജ്വല': True, 'ഉഗ്രൻ': True, 'കഴിവ്': True, 'കഴിയുക': True, 'ഒന്ന്': True, 'ഒന്നു്': True, 'ജയിക്കുക': True, 'വമ്പൻ': True, 'ഗംഭീരം': True, 'നിഷ്കളങ്കൻ': True, 'സ്നേഹം': True, 'നിഷ്കളങ്കത': True, 'ശരി': True, 'മടു': True, 'മടുക്കുക': True, 'പാവം': True, 'സന്തോഷം': True, 'മനോഹര': True, 'ഉണ്ട്': True, 'കൂടെ': True, 'ഉണ്ണുക': True, 'കൂട്': True, 'അസ്സൽ': True, 'ആകർഷിക്കുക': True, 'ബുദ്ധിശാലി': True, 'ബുദ്ധി': True, 'ഹെവി': True, 'സുന്ദരം': True, 'സുന്ദര': True, 'ബോറടിക്കുക': True, 'ബോർ': True, 'പേരു': True, 'പേര്': True, 'ധൈര്യം': True, 'പ്രിയ': True, 'വേസ്റ്റ്': True, 'അഭിമാനം': True, 'വിജയം': True, 'പുൾ': True, 'പുളകം': True, 'ഉയരുക': True, 'ബഹു': True, 'ബഹുമാനം': True, 'ജീവൻ': True, 'അംഗീകാരം': True}\n"
          ]
        }
      ]
    },
    {
      "cell_type": "code",
      "metadata": {
        "id": "5NAO_PAubZ25",
        "colab": {
          "base_uri": "https://localhost:8080/"
        },
        "outputId": "dd466644-b73d-4fa8-ff8f-b792ce1be043"
      },
      "source": [
        "#splitting the dataset\n",
        "\n",
        "import random\n",
        "\n",
        "def word_feat(d):\n",
        "  return dict([(item,True) for item in d])\n",
        "\n",
        "pos_dataset =[(word_feat(f),'positive') for f in filtered_pos]\n",
        "neg_dataset =[(word_feat(f),'negative') for f in filtered_neg]\n",
        "neu_dataset =[(word_feat(f),'neutral') for f in filtered_neu]\n",
        "\n",
        "dataset=pos_dataset+neg_dataset+neu_dataset\n",
        "\n",
        "random.shuffle(dataset)\n",
        "\n",
        "print(len(dataset))\n",
        "\n",
        "train_data = dataset[:1000]\n",
        "test_data = dataset[1000:]\n",
        "\n",
        "print(train_data)"
      ],
      "execution_count": null,
      "outputs": [
        {
          "output_type": "stream",
          "name": "stdout",
          "text": [
            "314\n",
            "[({'കാണുക': True}, 'negative'), ({}, 'negative'), ({'ഗംഭീരം': True}, 'positive'), ({}, 'positive'), ({'പ്രശ്നം': True}, 'negative'), ({'ശോകം': True}, 'negative'), ({'തെറ്റ്': True}, 'negative'), ({'കള': True, 'കളയുക': True, 'കളം': True}, 'negative'), ({'കൊള്ളുക': True}, 'neutral'), ({'മരണം': True}, 'negative'), ({'ഹെവി': True}, 'positive'), ({'പുല്ല്': True}, 'negative'), ({'ബുദ്ധിശാലി': True, 'ബുദ്ധി': True}, 'positive'), ({'തെറ്റ്': True}, 'negative'), ({'ദേഷ്യം': True}, 'negative'), ({}, 'positive'), ({'മനോഹര': True, 'മനോഹരം': True}, 'positive'), ({'മനോഹരം': True}, 'positive'), ({}, 'neutral'), ({}, 'negative'), ({}, 'negative'), ({}, 'positive'), ({'പോസിറ്റീവ്': True}, 'positive'), ({'ഗ്രേറ്റ്': True}, 'positive'), ({'വേസ്റ്റ്': True}, 'negative'), ({'ആകർഷിക്കുക': True}, 'positive'), ({'വിമർശനം': True}, 'neutral'), ({'ചെയ്യുക': True}, 'negative'), ({'രക്ഷ': True}, 'positive'), ({'മനോഹരം': True}, 'positive'), ({'നന്ന്': True}, 'positive'), ({}, 'positive'), ({}, 'neutral'), ({'കോരുക': True, 'കോര്': True}, 'positive'), ({'സപ്പോർട്ട്': True}, 'positive'), ({'പോകുക': True, 'മൂഡ്': True}, 'negative'), ({'കഴിവ്': True, 'കഴിയുക': True}, 'positive'), ({}, 'positive'), ({'അർഹിക്കുക': True}, 'positive'), ({'കങ്ങുക': True, 'ഫാൻ': True, 'കക്കുക': True, 'കൾക്കുക': True, 'കട്ട': True}, 'positive'), ({'പോരായ്മ': True}, 'negative'), ({'പൊളിയുക': True}, 'positive'), ({'ഊള': True}, 'negative'), ({}, 'negative'), ({'ഇ': True, 'ഇല്ലാത്ത': True}, 'negative'), ({'നന്ദി': True}, 'positive'), ({'ശരി': True}, 'positive'), ({'മോശം': True}, 'negative'), ({'അടിക്കുക': True, 'അടി': True, 'അടുക': True}, 'negative'), ({'ടോർച്ചർ': True}, 'negative'), ({'ഉജ്ജ്വലം': True, 'ഉജ്ജ്വല': True}, 'positive'), ({'കിടു': True}, 'positive'), ({'നിഷ്കളങ്കത': True}, 'positive'), ({'ചുടൽ': True, 'ചുടല': True}, 'negative'), ({}, 'positive'), ({'ഉയിർ': True}, 'positive'), ({'പ്രതിഭ': True}, 'positive'), ({'പോളി': True}, 'positive'), ({'മലം': True}, 'negative'), ({'പറി': True}, 'negative'), ({'നശിക്കുക': True}, 'negative'), ({'ഇ': True}, 'positive'), ({'സ്നേഹം': True}, 'positive'), ({'അഹങ്കാരം': True}, 'negative'), ({'പോട്': True}, 'negative'), ({'സ്നേഹം': True}, 'positive'), ({'നല്ല': True}, 'positive'), ({'കാശ്': True, 'മുതൽ': True}, 'positive'), ({'മടുക്കുക': True}, 'negative'), ({'അപവാദം': True}, 'negative'), ({'നന്ന്': True}, 'positive'), ({'മികയ്ക്കുക': True, 'മികയുക': True}, 'positive'), ({}, 'negative'), ({'കൊള്ളുക': True}, 'positive'), ({'നമിക്കുക': True}, 'positive'), ({'മോൻ': True, 'നായ്': True}, 'negative'), ({'ഇ': True, 'ഇഷ്ടം': True}, 'positive'), ({}, 'negative'), ({'ഇഷ്ടപ്പെടുക': True, 'ഇ': True, 'ഇഷ്ടം': True}, 'neutral'), ({'വിഷമം': True}, 'negative'), ({}, 'positive'), ({}, 'negative'), ({'തട്ടി': True}, 'neutral'), ({'മികയ്ക്കുക': True, 'മികയുക': True, 'മി': True}, 'positive'), ({'ഇ': True}, 'negative'), ({'അഭിമാനം': True}, 'positive'), ({'പ്രശ്നം': True}, 'negative'), ({'നല്ല': True}, 'positive'), ({'തെറ്റ്': True}, 'negative'), ({}, 'negative'), ({'അളിയുക': True}, 'negative'), ({'പൊളി': True}, 'positive'), ({'രോമാഞ്ചം': True}, 'neutral'), ({'സുന്ദരം': True, 'സുന്ദര': True}, 'positive'), ({'സത്യം': True}, 'positive'), ({'കിടുക്കി': True, 'കിടു': True}, 'positive'), ({'ധാരാളം': True}, 'neutral'), ({'വിലങ്ങുക': True, 'വിലക്കുക': True, 'വിൽ': True}, 'negative'), ({'അസ്സൽ': True}, 'positive'), ({'വേസ്റ്റ്': True}, 'positive'), ({}, 'positive'), ({'ഇ': True, 'ഇഷ്ടം': True}, 'negative'), ({}, 'positive'), ({'പൊട്ടുക': True}, 'negative'), ({'രക്ഷ': True}, 'positive'), ({'വാണിംഗ്': True}, 'negative'), ({'ഉയരുക': True}, 'positive'), ({'നല്ല': True}, 'positive'), ({'ഉഗ്രൻ': True}, 'positive'), ({}, 'positive'), ({'ഇ': True, 'ഇഷ്ടം': True}, 'positive'), ({'ശരി': True}, 'positive'), ({}, 'positive'), ({'ഇ': True}, 'negative'), ({'കഴിയുക': True}, 'negative'), ({'നന്ദി': True}, 'neutral'), ({'ഇഷ്ടപ്പെടുക': True, 'ഇ': True, 'ഇഷ്ടം': True}, 'positive'), ({}, 'positive'), ({'ബോർ': True}, 'negative'), ({'പൊളി': True}, 'positive'), ({}, 'positive'), ({'പൊളിയുക': True}, 'positive'), ({'കലക്കുക': True, 'കലങ്ങുക': True}, 'positive'), ({'മൂഞ്ചുക': True}, 'negative'), ({}, 'negative'), ({'കള്ളം': True}, 'negative'), ({'കൊള്ള': True, 'കൊള്ളുക': True}, 'negative'), ({}, 'positive'), ({}, 'positive'), ({'ശോകം': True}, 'negative'), ({'പുച്ഛം': True}, 'negative'), ({'ദുരന്തം': True}, 'negative'), ({}, 'positive'), ({'പൊളി': True}, 'positive'), ({}, 'negative'), ({'മിസ്റ്റേക്ക്': True}, 'negative'), ({'ആനന്ദം': True}, 'positive'), ({}, 'positive'), ({'പറ്റുക': True, 'പറ്റ്': True}, 'negative'), ({'കാര്യം': True}, 'negative'), ({}, 'neutral'), ({}, 'positive'), ({'അഭിനന്ദനം': True}, 'positive'), ({'കഷ്ടം': True}, 'negative'), ({'കിടു': True}, 'positive'), ({'ഒന്ന്': True, 'ഒന്നു്': True}, 'positive'), ({'സത്യം': True}, 'neutral'), ({'സത്യം': True}, 'positive'), ({'കോപ്പ്': True}, 'negative'), ({'സന്തോഷം': True}, 'positive'), ({'അഭിമാനം': True}, 'positive'), ({'കാണുക': True}, 'neutral'), ({'കിടു': True}, 'positive'), ({'മികയ്ക്കുക': True, 'മികയുക': True}, 'positive'), ({'കുറവ്': True, 'കുറവു്': True, 'കുറയുക': True}, 'negative'), ({}, 'positive'), ({}, 'positive'), ({'വിഷമം': True}, 'negative'), ({'പിടി': True}, 'negative'), ({'പൈസ': True}, 'negative'), ({'അയ്യേ': True}, 'negative'), ({'കൊല': True}, 'positive'), ({'കോന്തൻ': True}, 'negative'), ({'ഭംഗി': True}, 'neutral'), ({'നശിക്കുക': True}, 'negative'), ({'ഉണ്ട്': True, 'കൂടെ': True, 'ഉണ്ണുക': True, 'കൂട്': True}, 'positive'), ({'വെറുക്കുക': True}, 'negative'), ({}, 'positive'), ({'കൊല': True}, 'negative'), ({'കൊള്ളുക': True, 'കൊള്ള്': True}, 'negative'), ({'തീട്ടുക': True, 'തീട്ടം': True}, 'negative'), ({'ഹാപ്പി': True}, 'positive'), ({'പൊളി': True, 'പൊളിയുക': True}, 'positive'), ({'അവാർഡ്': True}, 'neutral'), ({'തേയുക': True, 'തേപ്പ്': True, 'തേയ്ക്കുക': True}, 'negative'), ({'നല്ലത്': True}, 'positive'), ({'പാവം': True}, 'positive'), ({'കലക്കുക': True, 'കലങ്ങുക': True}, 'positive'), ({'ഒലക്ക': True, 'ഒല': True, 'ഒ': True}, 'negative'), ({'അറുക': True, 'അറിയുക': True}, 'negative'), ({'പൊളിയുക': True}, 'positive'), ({'അപമര്യാദ': True}, 'negative'), ({'ഇ': True}, 'negative'), ({'തോന്നുക': True, 'തോലുക': True}, 'negative'), ({'ആഘോഷം': True}, 'positive'), ({}, 'negative'), ({'സൂപ്പർ': True}, 'positive'), ({'ചെറ്റ': True, 'ചെറ്റം': True}, 'negative'), ({'തോൽവി': True}, 'negative'), ({'രോമാഞ്ചം': True}, 'positive'), ({}, 'negative'), ({'തെറ്റി': True, 'തെറ്റുക': True}, 'negative'), ({'തിളങ്ങുക': True}, 'positive'), ({'ഊമ്പുക': True}, 'negative'), ({'സ്നേഹിക്കുക': True}, 'positive'), ({'സൂപ്പർ': True}, 'positive'), ({}, 'positive'), ({'ഹിറ്റായില്ല': True}, 'negative'), ({'കാണുക': True}, 'neutral'), ({'ധൈര്യം': True}, 'positive'), ({'അറിയുക': True}, 'negative'), ({'പ്രശ്നം': True}, 'negative'), ({'പറ്റുക': True}, 'negative'), ({}, 'positive'), ({'നാറുക': True, 'നാറി': True}, 'negative'), ({'ഇ': True, 'ഇല്ല': True, 'ഇല്ലം': True}, 'positive'), ({'സൂപ്പർ': True}, 'positive'), ({}, 'negative'), ({'കൂൾ': True}, 'positive'), ({}, 'neutral'), ({'കുണ്ടി': True}, 'negative'), ({'മടു': True, 'മടുക്കുക': True}, 'positive'), ({'കോമഡി': True, 'ആകുക': True, 'ആവുക': True, 'ആയി': True}, 'positive'), ({}, 'positive'), ({}, 'negative'), ({'കാണുക': True}, 'neutral'), ({'പോരായ്മ': True}, 'negative'), ({'ഇ': True, 'ഇല്ല': True, 'ഇല്ലം': True}, 'negative'), ({'ബോറടിക്കുക': True, 'ബോർ': True}, 'positive'), ({}, 'neutral'), ({}, 'neutral'), ({}, 'negative'), ({'കിടു': True}, 'positive'), ({'ശരി': True}, 'neutral'), ({'കുതിര': True, 'കുതിർ': True}, 'positive'), ({'അംഗീകാരം': True}, 'positive'), ({'ബഹു': True, 'ബഹുമാനം': True}, 'positive'), ({'മൂഞ്ചുക': True}, 'negative'), ({'അനായാസം': True}, 'positive'), ({'തഴ': True, 'തഴയുക': True}, 'negative'), ({'ദുഃഖം': True}, 'negative'), ({'മോശം': True, 'മോശ': True}, 'neutral'), ({'സ്നേഹിക്കുക': True}, 'positive'), ({'ഇ': True, 'ഇല്ല': True, 'ഇല്ലം': True, 'രക്ഷ': True}, 'positive'), ({'മോശം': True}, 'negative'), ({'നല്ലൊരു': True}, 'positive'), ({'പേരു': True, 'പേര്': True}, 'positive'), ({'വെയ്ക്കുക': True, 'തല': True}, 'negative'), ({'പ്രതി': True, 'പ്രതീക്ഷിക്കുക': True}, 'neutral'), ({'പ്രിയ': True}, 'positive'), ({'തകരുക': True}, 'negative'), ({}, 'positive'), ({}, 'positive'), ({'പക': True}, 'negative'), ({}, 'positive'), ({'അടി': True}, 'positive'), ({'അടി': True}, 'positive'), ({}, 'negative'), ({'നന്ദി': True}, 'positive'), ({'കിടി': True, 'കിടിലം': True}, 'positive'), ({'ഇഷ്ടപ്പെടുക': True, 'ഇ': True, 'ഇഷ്ടം': True}, 'positive'), ({}, 'positive'), ({'ജയിക്കുക': True}, 'positive'), ({'തോൽവി': True}, 'negative'), ({}, 'negative'), ({'ചളി': True}, 'negative'), ({'മികയ്ക്കുക': True, 'മികയുക': True, 'മി': True}, 'positive'), ({'അറിയുക': True}, 'negative'), ({'അല്ല': True}, 'negative'), ({'വമ്പൻ': True}, 'positive'), ({'ഞെട്ടുക': True, 'ഞെട്ടി': True}, 'positive'), ({'വിജയം': True}, 'positive'), ({}, 'positive'), ({'തട്ടി': True}, 'negative'), ({}, 'positive'), ({'വേർ': True, 'വേറ്': True, 'ലെവൽ': True}, 'positive'), ({'കിടു': True}, 'positive'), ({'നിഷ്കളങ്കൻ': True}, 'positive'), ({'സൂപ്പർ': True}, 'positive'), ({'നഷ്ടം': True}, 'negative'), ({'രക്ഷ': True}, 'positive'), ({'ഇ': True, 'ഇഷ്ടം': True}, 'positive'), ({'തഴ': True, 'തഴയുക': True}, 'positive'), ({'വേസ്റ്റ്': True}, 'negative'), ({'ഇ': True, 'ഇഷ്ടം': True}, 'positive'), ({'നിരാശ': True, 'നിര': True}, 'negative'), ({'പുൾ': True, 'പുളകം': True}, 'positive'), ({'പൊളിയുക': True}, 'positive'), ({'സ്നേഹം': True}, 'positive'), ({'ഇ': True, 'ഇഷ്ടം': True}, 'positive'), ({'അഭിനന്ദനം': True}, 'positive'), ({'അത്ഭുതം': True}, 'positive'), ({'മോശം': True, 'മോശ': True}, 'neutral'), ({}, 'negative'), ({'നല്ലത്': True}, 'positive'), ({'മുങ്ങുക': True, 'മുത്ത്': True}, 'positive'), ({'വട്ട്': True}, 'negative'), ({'കിടി': True, 'കിടിലം': True}, 'positive'), ({}, 'negative'), ({'സൂപ്പർ': True}, 'positive'), ({'തിമിർക്കുക': True}, 'positive'), ({'ഹിറ്റ്': True}, 'positive'), ({}, 'negative'), ({'മികയ്ക്കുക': True, 'മികയുക': True, 'മി': True}, 'positive'), ({'മുതൽ': True, 'മുത': True, 'മുതലാവുക': True}, 'positive'), ({'ഏഴ': True, 'ഏഴു്': True, 'ഏഴ്': True}, 'negative'), ({'ബോർ': True}, 'neutral'), ({'മോൻ': True, 'നായ്': True}, 'negative'), ({'നല്ലൊരു': True}, 'positive'), ({'ഫ്ലോപ്പ്': True}, 'negative'), ({}, 'negative'), ({'അലവലാതി': True, 'അലവൽ': True}, 'negative'), ({'മഹാനടൻ': True}, 'positive'), ({'പീഡ': True, 'പീഡനം': True}, 'negative'), ({'ഗംഭീരം': True}, 'positive'), ({'തെറ്റുക': True, 'തെറ്റ്': True}, 'negative'), ({'വേർ': True, 'വേറ്': True, 'ലെവൽ': True}, 'positive'), ({'വി': True, 'വിശ്വസിക്കുക': True}, 'positive'), ({'മടിയുക': True, 'മടിക്കുക': True}, 'negative'), ({'ജീവൻ': True}, 'positive'), ({'ഇ': True, 'ഇല്ല': True, 'ഇല്ലം': True}, 'positive'), ({'ഊള': True}, 'negative'), ({}, 'positive'), ({}, 'positive')]\n"
          ]
        }
      ]
    },
    {
      "cell_type": "code",
      "metadata": {
        "id": "c400xGAkcj5o",
        "colab": {
          "base_uri": "https://localhost:8080/"
        },
        "outputId": "3273619c-4778-44b6-ac2a-ab878e415732"
      },
      "source": [
        "from nltk import classify\n",
        "from nltk import NaiveBayesClassifier\n",
        "\n",
        "classifier = NaiveBayesClassifier.train(train_data)\n",
        "print(\"Accuracy is: \",classify.accuracy(classifier,test_data))\n",
        "print(classifier.show_most_informative_features(10))"
      ],
      "execution_count": null,
      "outputs": [
        {
          "output_type": "stream",
          "name": "stdout",
          "text": [
            "Accuracy is:  0\n",
            "Most Informative Features\n",
            "                   കാണുക = True           neutra : negati =     11.7 : 1.0\n",
            "                 കൊള്ളുക = True           neutra : positi =      6.7 : 1.0\n",
            "                രോമാഞ്ചം = True           neutra : positi =      6.7 : 1.0\n",
            "                     ബോർ = True           neutra : positi =      6.7 : 1.0\n",
            "                    മോശം = True           neutra : negati =      5.0 : 1.0\n",
            "                   തട്ടി = True           neutra : negati =      5.0 : 1.0\n",
            "                   ഇഷ്ടം = True           neutra : negati =      5.0 : 1.0\n",
            "                   സത്യം = True           neutra : positi =      4.0 : 1.0\n",
            "                   നന്ദി = True           neutra : positi =      4.0 : 1.0\n",
            "                     ശരി = True           neutra : positi =      4.0 : 1.0\n",
            "None\n"
          ]
        }
      ]
    },
    {
      "cell_type": "code",
      "metadata": {
        "id": "A8BRxBmXrObg",
        "colab": {
          "base_uri": "https://localhost:8080/"
        },
        "outputId": "0ff5c41f-733f-4f42-93d3-1a769d706e2c"
      },
      "source": [
        "import pickle\n",
        "\n",
        "f=open('classifier_early1.pickle','wb')\n",
        "pickle.dump(classifier,f)\n",
        "f.close\n",
        "test=\"മികച്ച\"\n",
        "tok=word_tokenize(test)\n",
        "\n",
        "print(classifier.classify(dict([token,True] for token in tok)))"
      ],
      "execution_count": null,
      "outputs": [
        {
          "output_type": "stream",
          "name": "stdout",
          "text": [
            "positive\n"
          ]
        }
      ]
    }
  ]
}